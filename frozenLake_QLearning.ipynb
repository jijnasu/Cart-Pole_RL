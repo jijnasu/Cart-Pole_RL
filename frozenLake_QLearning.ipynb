{
 "cells": [
  {
   "cell_type": "code",
   "execution_count": 1,
   "metadata": {},
   "outputs": [],
   "source": [
    "import numpy as np\n",
    "import gym\n",
    "import random\n",
    "import time\n",
    "from IPython.display import clear_output"
   ]
  },
  {
   "cell_type": "code",
   "execution_count": 3,
   "metadata": {},
   "outputs": [
    {
     "name": "stderr",
     "output_type": "stream",
     "text": [
      "/Users/jijnasu/Library/CloudStorage/OneDrive-Personal/Documents/Reinforcement Learning/deeplizard/openaiGym/lib/python3.9/site-packages/gym/core.py:317: DeprecationWarning: \u001b[33mWARN: Initializing wrapper in old step API which returns one bool instead of two. It is recommended to set `new_step_api=True` to use new step API. This will be the default behaviour in future.\u001b[0m\n",
      "  deprecation(\n",
      "/Users/jijnasu/Library/CloudStorage/OneDrive-Personal/Documents/Reinforcement Learning/deeplizard/openaiGym/lib/python3.9/site-packages/gym/wrappers/step_api_compatibility.py:39: DeprecationWarning: \u001b[33mWARN: Initializing environment in old step API which returns one bool instead of two. It is recommended to set `new_step_api=True` to use new step API. This will be the default behaviour in future.\u001b[0m\n",
      "  deprecation(\n"
     ]
    }
   ],
   "source": [
    "env = gym.make(\"FrozenLake-v1\")\n"
   ]
  },
  {
   "cell_type": "code",
   "execution_count": 4,
   "metadata": {},
   "outputs": [],
   "source": [
    "action_space_size = env.action_space.n\n",
    "state_space_size = env.observation_space.n\n",
    "\n",
    "q_table = np.zeros((state_space_size, action_space_size))"
   ]
  },
  {
   "cell_type": "code",
   "execution_count": 5,
   "metadata": {},
   "outputs": [
    {
     "name": "stdout",
     "output_type": "stream",
     "text": [
      "[[0. 0. 0. 0.]\n",
      " [0. 0. 0. 0.]\n",
      " [0. 0. 0. 0.]\n",
      " [0. 0. 0. 0.]\n",
      " [0. 0. 0. 0.]\n",
      " [0. 0. 0. 0.]\n",
      " [0. 0. 0. 0.]\n",
      " [0. 0. 0. 0.]\n",
      " [0. 0. 0. 0.]\n",
      " [0. 0. 0. 0.]\n",
      " [0. 0. 0. 0.]\n",
      " [0. 0. 0. 0.]\n",
      " [0. 0. 0. 0.]\n",
      " [0. 0. 0. 0.]\n",
      " [0. 0. 0. 0.]\n",
      " [0. 0. 0. 0.]]\n"
     ]
    }
   ],
   "source": [
    "print(q_table)"
   ]
  },
  {
   "cell_type": "code",
   "execution_count": 23,
   "metadata": {},
   "outputs": [],
   "source": [
    "num_episodes = 10000\n",
    "max_steps_per_episode = 100\n",
    "\n",
    "learning_rate = 0.1\n",
    "discount_rate = 0.99\n",
    "\n",
    "exploration_rate = 1\n",
    "max_exploration_rate = 1\n",
    "min_exploration_rate = 0.01\n",
    "exploration_decay_rate = 0.001"
   ]
  },
  {
   "cell_type": "code",
   "execution_count": 24,
   "metadata": {},
   "outputs": [],
   "source": [
    "rewards_all_episodes = []\n",
    "\n",
    "\n",
    "for episode in range(num_episodes):\n",
    "    state = env.reset()\n",
    "\n",
    "    done = False\n",
    "    rewards_current_episode = 0\n",
    "\n",
    "    for step in range(max_steps_per_episode):\n",
    "        exploration_rate_threshold = random.uniform(0,1)\n",
    "        if exploration_rate_threshold > exploration_rate:\n",
    "            action = np.argmax(q_table[state,:])\n",
    "        else:\n",
    "            action = env.action_space.sample()\n",
    "\n",
    "        new_state, reward, done, info = env.step(action)\n",
    "\n",
    "\n",
    "        q_table[state, action] = q_table[state, action]*(1-learning_rate) + learning_rate*(reward + discount_rate*np.max(q_table[new_state,:]))\n",
    "\n",
    "        state = new_state\n",
    "        rewards_current_episode += reward\n",
    "        if done:\n",
    "            break\n",
    "\n",
    "    exploration_rate = min_exploration_rate + (max_exploration_rate - min_exploration_rate)* np.exp(-exploration_decay_rate * episode)\n",
    "\n",
    "    rewards_all_episodes.append(rewards_current_episode)"
   ]
  },
  {
   "cell_type": "code",
   "execution_count": 25,
   "metadata": {},
   "outputs": [
    {
     "name": "stdout",
     "output_type": "stream",
     "text": [
      "===AVERAGE REWARD PER THOUSAND EPISODE===\n",
      "\n",
      "1000  :  0.04900000000000004\n",
      "2000  :  0.21400000000000016\n",
      "3000  :  0.4050000000000003\n",
      "4000  :  0.5670000000000004\n",
      "5000  :  0.6210000000000004\n",
      "6000  :  0.6580000000000005\n",
      "7000  :  0.6850000000000005\n",
      "8000  :  0.6800000000000005\n",
      "9000  :  0.6460000000000005\n",
      "10000  :  0.6750000000000005\n",
      "\n",
      "\n",
      "===Q-Table===\n",
      "\n",
      "[[0.55936002 0.51503565 0.51318153 0.51170144]\n",
      " [0.31257096 0.34317665 0.28603086 0.50585274]\n",
      " [0.39198714 0.40311207 0.39215514 0.47196993]\n",
      " [0.35206599 0.28161641 0.28436801 0.45188414]\n",
      " [0.58975429 0.33193408 0.43040485 0.35305975]\n",
      " [0.         0.         0.         0.        ]\n",
      " [0.31990334 0.07939731 0.1829747  0.15836253]\n",
      " [0.         0.         0.         0.        ]\n",
      " [0.32413466 0.37479745 0.31785584 0.62267007]\n",
      " [0.57460414 0.66140552 0.47738751 0.3410247 ]\n",
      " [0.65186708 0.40413539 0.41505486 0.3121462 ]\n",
      " [0.         0.         0.         0.        ]\n",
      " [0.         0.         0.         0.        ]\n",
      " [0.4803081  0.62153719 0.79907235 0.58757495]\n",
      " [0.7543147  0.92510679 0.72235144 0.7627043 ]\n",
      " [0.         0.         0.         0.        ]]\n"
     ]
    }
   ],
   "source": [
    "rewards_per_thousand_episodes = np.split(np.array(rewards_all_episodes), num_episodes/1000)\n",
    "count = 1000\n",
    "\n",
    "print(\"===AVERAGE REWARD PER THOUSAND EPISODE===\\n\")\n",
    "for r in rewards_per_thousand_episodes:\n",
    "    print(count, ' : ', str(sum(r/1000)))\n",
    "    count += 1000\n",
    "\n",
    "print('\\n\\n===Q-Table===\\n')\n",
    "print(q_table)"
   ]
  },
  {
   "cell_type": "code",
   "execution_count": null,
   "metadata": {},
   "outputs": [],
   "source": []
  }
 ],
 "metadata": {
  "kernelspec": {
   "display_name": "Python 3.9.11 ('openaiGym': venv)",
   "language": "python",
   "name": "python3"
  },
  "language_info": {
   "codemirror_mode": {
    "name": "ipython",
    "version": 3
   },
   "file_extension": ".py",
   "mimetype": "text/x-python",
   "name": "python",
   "nbconvert_exporter": "python",
   "pygments_lexer": "ipython3",
   "version": "3.9.11"
  },
  "orig_nbformat": 4,
  "vscode": {
   "interpreter": {
    "hash": "2dcb571eece2fe185405ea698d61a0d24203a87aecccb9db357ed624e90f3f55"
   }
  }
 },
 "nbformat": 4,
 "nbformat_minor": 2
}
